{
 "cells": [
  {
   "cell_type": "markdown",
   "metadata": {},
   "source": [
    "<span style=\"font-size:100%\">\n",
    "\n",
    "수업은 모두 열심히 들으셨나요?\n",
    "\n",
    "간혹 강의에서 언급되지 않은 내용이 문제로 나올 수 있습니다.<br>\n",
    "그럴땐 강의 내용 외 문제는 구글링을 통해 해결해주세요<br></span>\n",
    "<span style=\"font-size:80%\">\n",
    "(구글링 또한 개발자가 갖쳐야할 역량 중에 하나랍니다 😊)\n",
    "</span>\n",
    "\n",
    "---"
   ]
  },
  {
   "cell_type": "markdown",
   "metadata": {},
   "source": [
    "### Chapter14 : `Python if문을 이용해 조건을 만족 또는 만족하지 않는 상황을 이용해 프로그램의 흐름 제어를 해보자`"
   ]
  },
  {
   "cell_type": "markdown",
   "metadata": {},
   "source": [
    "<span style=\"font-size:80%\">[문제1]<br><br></span>\n",
    "```다음 중 True로 취급되지 않는 것을 골라주세요```\n",
    "\n",
    "1. 1\n",
    "2. \"수강생\"\n",
    "3. None\n",
    "4. [\"양파\", \"옥수수\", \"배추\"]"
   ]
  },
  {
   "cell_type": "markdown",
   "metadata": {},
   "source": [
    "<span style=\"color:red\">답변</span>"
   ]
  },
  {
   "cell_type": "markdown",
   "metadata": {},
   "source": [
    "답: 3"
   ]
  },
  {
   "cell_type": "markdown",
   "metadata": {},
   "source": [
    "----"
   ]
  },
  {
   "cell_type": "markdown",
   "metadata": {},
   "source": [
    "<span style=\"font-size:80%\">[문제2]<br><br></span>\n",
    "```아래 코드의 출력 결과를 입력해주세요```\n",
    "\n",
    "```if not ' ':```<br>\n",
    "&nbsp;```  print(True)```<br>\n",
    "\n",
    "```else:```<br>\n",
    "&nbsp;```  print(False)```<br>"
   ]
  },
  {
   "cell_type": "markdown",
   "metadata": {},
   "source": [
    "<span style=\"color:red\">답변</span>"
   ]
  },
  {
   "cell_type": "markdown",
   "metadata": {},
   "source": [
    "답: True\n",
    "\n",
    "해설:  \n",
    "공백문자도 문자열임"
   ]
  },
  {
   "cell_type": "markdown",
   "metadata": {},
   "source": [
    "----"
   ]
  },
  {
   "cell_type": "markdown",
   "metadata": {},
   "source": [
    "<span style=\"font-size:80%\">[문제3]<br><br></span>\n",
    "```if 조건문에 대한 설명으로 올바른 것을 골라주세요```\n",
    "\n",
    "1. if문은 조건을 만족하지 않을때 실행된다.\n",
    "2. else문은 조건문이 참일 때 실행된다.\n",
    "3. else는 단독으로 사용할 수 없다.\n",
    "4. else에서 실행되는 코드는 다음 줄에서 들여쓰기를 하지 않아야 한다.\n",
    "5. if는 항상 else가 있어여 한다."
   ]
  },
  {
   "cell_type": "markdown",
   "metadata": {},
   "source": [
    "<span style=\"color:red\">답변</span>"
   ]
  },
  {
   "cell_type": "markdown",
   "metadata": {},
   "source": [
    "답: 3\n",
    "\n",
    "해설:  \n",
    "1 if 문은 조건이 True일 때 실행됨  \n",
    "2 else는 조건이 False일 때 실행됨  \n",
    "4 모든 조건문에는 들여쓰기를 해야함.(조건부 표현식 제외)  \n",
    "5 if는 else가 있는게 좋지만 없어도 실행 됨"
   ]
  },
  {
   "cell_type": "markdown",
   "metadata": {},
   "source": [
    "----"
   ]
  },
  {
   "cell_type": "markdown",
   "metadata": {},
   "source": [
    "<span style=\"font-size:80%\">[문제4]<br><br></span>\n",
    "```아래 코드의 출력으로 올바른 것을 골라주세요```\n",
    "\n",
    "```x = 5```\n",
    "\n",
    "```if x % 2 ==0:```<br>\n",
    "&nbsp;&nbsp;```print(\"짝수\")```\n",
    "\n",
    "```else:```<br>\n",
    "&nbsp;&nbsp;```print(\"홀수\")```<br>\n",
    "\n",
    "\n",
    "1. 짝수\n",
    "2. 1\n",
    "3. 2\n",
    "4. 홀수\n",
    "5. 아무것도 출력되지 않는다."
   ]
  },
  {
   "cell_type": "markdown",
   "metadata": {},
   "source": [
    "<span style=\"color:red\">답변</span>"
   ]
  },
  {
   "cell_type": "markdown",
   "metadata": {},
   "source": [
    "답: 4\n",
    "\n",
    "해설:  \n",
    "'x를 2로 나누었을 때 나머지가 0이다' 가 True이면 \"짝수\"를 축력하고 아니면 \"홀수\"를 출력 하는 조건문임.  \n",
    "5를 2로 나누면 나머지가 1이므로 \"홀수\"출력."
   ]
  },
  {
   "cell_type": "markdown",
   "metadata": {},
   "source": [
    "----"
   ]
  },
  {
   "cell_type": "markdown",
   "metadata": {},
   "source": [
    "<span style=\"font-size:80%\">[문제5]<br><br></span>\n",
    "```아래의 if 조건과 동일한 조건을 찾아주세요```\n",
    "\n",
    "```if 15 >= x and x > 3```\n",
    "\n",
    "1. x < 3 < 15\n",
    "2. 3 <= x < 15\n",
    "3. 3 <= x <= 15\n",
    "4. 15 >= x\n",
    "5. 3 < x <= 15"
   ]
  },
  {
   "cell_type": "markdown",
   "metadata": {},
   "source": [
    "<span style=\"color:red\">답변</span>"
   ]
  },
  {
   "cell_type": "markdown",
   "metadata": {},
   "source": [
    "답: 5\n",
    "\n",
    "해설:  \n",
    "X는 3 초과 15 이하이다."
   ]
  },
  {
   "cell_type": "markdown",
   "metadata": {},
   "source": [
    "----"
   ]
  },
  {
   "cell_type": "markdown",
   "metadata": {},
   "source": [
    "### Chapter15 : `Python의 for문을 이용해 반복되는 작업 코드 개선해보기`"
   ]
  },
  {
   "cell_type": "markdown",
   "metadata": {},
   "source": [
    "<span style=\"font-size:80%\">[문제1]<br><br></span>\n",
    "```다음 중 for문으로 10번 반복하는 방법으로 올바른 것을 모두 골라주세요```\n",
    "\n",
    "1. for i in range(10):\n",
    "2. for i in range(5, 16):\n",
    "3. for i in range(10, 0):\n",
    "4. for i in range(20, 40, 2):\n",
    "5. for i in range(1, 10, 1):"
   ]
  },
  {
   "cell_type": "markdown",
   "metadata": {},
   "source": [
    "<span style=\"color:red\">답변</span>"
   ]
  },
  {
   "cell_type": "markdown",
   "metadata": {},
   "source": [
    "답: 1 4\n",
    "\n",
    "해설:  \n",
    "2 5부트 15까지, 총 11번  \n",
    "3 -1이 있어야 작동함  \n",
    "5 1부터 9까지, 총 9번  "
   ]
  },
  {
   "cell_type": "markdown",
   "metadata": {},
   "source": [
    "----"
   ]
  },
  {
   "cell_type": "markdown",
   "metadata": {},
   "source": [
    "<span style=\"font-size:80%\">[문제2]<br><br></span>\n",
    "```아래 코드에서 잘못된 부분에 대해서 설명해주세요```\n",
    "\n",
    "count = input()\n",
    "\n",
    "for i in range(count)<br>\n",
    "&emsp;&emsp;print('i의 값은', end=' ')<br>\n",
    "&emsp;&emsp;print(i)<br>"
   ]
  },
  {
   "cell_type": "markdown",
   "metadata": {},
   "source": [
    "<span style=\"color:red\">답변</span>"
   ]
  },
  {
   "cell_type": "markdown",
   "metadata": {},
   "source": [
    "답:  \n",
    "for문에 콜론(:)이 없음. "
   ]
  },
  {
   "cell_type": "markdown",
   "metadata": {},
   "source": [
    "----"
   ]
  },
  {
   "cell_type": "markdown",
   "metadata": {},
   "source": [
    "<span style=\"font-size:80%\">[문제3]<br><br></span>\n",
    "```아래 코드를 실행 했을 때 결과물로 올바른 것을 골라주세요```\n",
    "\n",
    "for i in reversed(\"python\"):<br>\n",
    "&emsp;&emsp;print(i, end='.')<br>\n",
    "\n",
    "\n",
    "1. n.o.h.t.y.p.\n",
    "2. p.y.t.h.o.n.\n",
    "3. nothyp\n",
    "4. python"
   ]
  },
  {
   "cell_type": "markdown",
   "metadata": {},
   "source": [
    "<span style=\"color:red\">답변</span>"
   ]
  },
  {
   "cell_type": "markdown",
   "metadata": {},
   "source": [
    "답: 1\n",
    "\n",
    "해설:  \n",
    "reversed는 시퀀스 자료형을 거꾸로 바꿔 출력해주는 함수."
   ]
  },
  {
   "cell_type": "markdown",
   "metadata": {},
   "source": [
    "----"
   ]
  },
  {
   "cell_type": "markdown",
   "metadata": {},
   "source": [
    "<span style=\"font-size:80%\">[문제4]<br><br></span>\n",
    "```리스트에 저장된 데이터를 아래와 같이 출력하세요```\n",
    "\n",
    "오피스텔 = [ [201, 202], [301, 302], [401, 402] ]\n",
    "\n",
    "201호<br>\n",
    "202호<br>\n",
    "`----`\n",
    "\n",
    "301호<br>\n",
    "302호<br>\n",
    "`----`\n",
    "\n",
    "401호<br>\n",
    "402호<br>\n",
    "`----`"
   ]
  },
  {
   "cell_type": "markdown",
   "metadata": {},
   "source": [
    "<span style=\"color:red\">답변</span>"
   ]
  },
  {
   "cell_type": "code",
   "execution_count": null,
   "metadata": {},
   "outputs": [
    {
     "name": "stdout",
     "output_type": "stream",
     "text": [
      "201호\n",
      "202호\n",
      "----\n",
      "301호\n",
      "302호\n",
      "----\n",
      "401호\n",
      "402호\n",
      "----\n"
     ]
    }
   ],
   "source": [
    "#답:\n",
    "오피스텔 = [ [201, 202], [301, 302], [401, 402] ]  \n",
    "for i in 오피스텔:\n",
    "    print(f'{i[0]}호')\n",
    "    print(f'{i[1]}호')\n",
    "    print('-'*4)"
   ]
  },
  {
   "cell_type": "markdown",
   "metadata": {},
   "source": [
    "----"
   ]
  },
  {
   "cell_type": "markdown",
   "metadata": {},
   "source": [
    "<span style=\"font-size:80%\">[문제5]<br><br></span>\n",
    "```ohlc 리스트에는 시가(open), 고가 (high), 저가 (low) , 종가(close)가 날짜별로 저장돼 있다. 종가가 150원보다 큰 경우에만 종가를 출력하는 코드를 작성해주세요```\n",
    "\n",
    "ohlc = [[\"open\", \"high\", \"low\", \"close\"], [100, 110, 70, 100], [200, 210, 180, 190], [300, 310, 300, 310]]"
   ]
  },
  {
   "cell_type": "markdown",
   "metadata": {},
   "source": [
    "<span style=\"color:red\">답변</span>"
   ]
  },
  {
   "cell_type": "code",
   "execution_count": null,
   "metadata": {},
   "outputs": [
    {
     "name": "stdout",
     "output_type": "stream",
     "text": [
      "2번째 날 종가 : 190\n",
      "3번째 날 종가 : 310\n"
     ]
    }
   ],
   "source": [
    "#답:\n",
    "ohlc = [[\"open\", \"high\", \"low\", \"close\"], [100, 110, 70, 100], [200, 210, 180, 190], [300, 310, 300, 310]]\n",
    "a=0\n",
    "for i in ohlc[1:]:\n",
    "    a+=1\n",
    "    if i[3] > 150:\n",
    "        print(f'{a}번째 날 종가 : {i[3]}')"
   ]
  },
  {
   "cell_type": "markdown",
   "metadata": {},
   "source": [
    "### Chapter16 : `Python의 While문을 활용해 반복되는 코드를 개선해 보자`"
   ]
  },
  {
   "cell_type": "markdown",
   "metadata": {},
   "source": [
    "<span style=\"font-size:80%\">[문제1]<br><br></span>\n",
    "아래 코드의 올바른 실행 결과를 골라주세요\n",
    "```\n",
    "i = 10\n",
    "\n",
    "while i < 19:\n",
    "    print(i, end=' ')\n",
    "    i += 2\n",
    "```\n",
    "\n",
    "1. 10, 11, 12, 13, 14, 15, 16, 17, 18, 19\n",
    "2. 10 11 12 13 14 15 16 17 18\n",
    "3. 10 12 14 16 18 19\n",
    "4. 10 12 14 16 18\n",
    "5. 10 12 14 16"
   ]
  },
  {
   "cell_type": "markdown",
   "metadata": {},
   "source": [
    "<span style=\"color:red\">답변</span>"
   ]
  },
  {
   "cell_type": "markdown",
   "metadata": {},
   "source": [
    "답: 4\n",
    "\n",
    "해설:  \n",
    "i는 10이고  \n",
    "'i는 19미만아다'가 True일 동안 print(i, end=' ')와 i+2를 반복."
   ]
  },
  {
   "cell_type": "markdown",
   "metadata": {},
   "source": [
    "----"
   ]
  },
  {
   "cell_type": "markdown",
   "metadata": {},
   "source": [
    "<span style=\"font-size:80%\">[문제2]<br><br></span>\n",
    "다음 중 while 반복문에 대한 설명으로 잘못된 것을 모두 골라주세요\n",
    "\n",
    "1. while 반복문에는 조건식 또는 값을 지정하면 된다.\n",
    "2. while 반복문은 조건식의 결과가 True이면 반복을 끝낸다.\n",
    "3. while 반복문은 반복 횟수가 정해져 있을 때만 사용할 수 있다.\n",
    "4. while 반복문의 다음 줄은 반드시 들여쓰기를 해야 한다.\n",
    "5. while 반복문의 조건식에 True를 지정하면 무한 루프가 된다."
   ]
  },
  {
   "cell_type": "markdown",
   "metadata": {},
   "source": [
    "<span style=\"color:red\">답변</span>"
   ]
  },
  {
   "cell_type": "markdown",
   "metadata": {},
   "source": [
    "답: 2 3\n",
    "\n",
    "해설:  \n",
    "2 False이면 반복문이 끝남\n",
    "3 for는 반복 횟수가 정해져 있어야 하지만 True는 무한루프가 가능."
   ]
  },
  {
   "cell_type": "markdown",
   "metadata": {},
   "source": [
    "----"
   ]
  },
  {
   "cell_type": "markdown",
   "metadata": {},
   "source": [
    "<span style=\"font-size:80%\">[문제3]<br><br></span>\n",
    "while문을 사용하여, 100 이상의 자연수 중 가장 작은 23의 배수를 츨력하는 코드를 작성해주세요"
   ]
  },
  {
   "cell_type": "markdown",
   "metadata": {},
   "source": [
    "<span style=\"color:red\">답변</span>"
   ]
  },
  {
   "cell_type": "code",
   "execution_count": null,
   "metadata": {},
   "outputs": [
    {
     "name": "stdout",
     "output_type": "stream",
     "text": [
      "115\n"
     ]
    }
   ],
   "source": [
    "a=100\n",
    "while True :\n",
    "    a+=1\n",
    "    if a % 23 == 0:\n",
    "        print(a)\n",
    "        break\n"
   ]
  },
  {
   "cell_type": "markdown",
   "metadata": {},
   "source": []
  },
  {
   "cell_type": "markdown",
   "metadata": {},
   "source": [
    "----"
   ]
  }
 ],
 "metadata": {
  "kernelspec": {
   "display_name": "Python 3",
   "language": "python",
   "name": "python3"
  },
  "language_info": {
   "codemirror_mode": {
    "name": "ipython",
    "version": 3
   },
   "file_extension": ".py",
   "mimetype": "text/x-python",
   "name": "python",
   "nbconvert_exporter": "python",
   "pygments_lexer": "ipython3",
   "version": "3.13.6"
  }
 },
 "nbformat": 4,
 "nbformat_minor": 2
}
